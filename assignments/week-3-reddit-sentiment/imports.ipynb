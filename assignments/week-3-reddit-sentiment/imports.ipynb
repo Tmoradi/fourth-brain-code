{
 "cells": [
  {
   "cell_type": "code",
   "execution_count": 3,
   "id": "dd8ca316",
   "metadata": {
    "collapsed": true,
    "jupyter": {
     "outputs_hidden": true
    },
    "tags": []
   },
   "outputs": [
    {
     "name": "stdout",
     "output_type": "stream",
     "text": [
      "Requirement already satisfied: transformers in /home/tmoradi/anaconda3/envs/sa/lib/python3.8/site-packages (4.21.2)\n",
      "Requirement already satisfied: praw in /home/tmoradi/anaconda3/envs/sa/lib/python3.8/site-packages (7.6.0)\n",
      "Requirement already satisfied: torch in /home/tmoradi/anaconda3/envs/sa/lib/python3.8/site-packages (1.12.1)\n",
      "Requirement already satisfied: numpy in /home/tmoradi/anaconda3/envs/sa/lib/python3.8/site-packages (1.23.2)\n",
      "Requirement already satisfied: pandas in /home/tmoradi/anaconda3/envs/sa/lib/python3.8/site-packages (1.4.3)\n",
      "\u001b[31mERROR: Could not find a version that satisfies the requirement secrets_reddit (from versions: none)\u001b[0m\u001b[31m\n",
      "\u001b[0m\u001b[31mERROR: No matching distribution found for secrets_reddit\u001b[0m\u001b[31m\n",
      "\u001b[0mNote: you may need to restart the kernel to use updated packages.\n"
     ]
    }
   ],
   "source": [
    "pip install -U transformers praw torch numpy pandas"
   ]
  },
  {
   "cell_type": "code",
   "execution_count": 4,
   "id": "f9e7c3b5",
   "metadata": {},
   "outputs": [
    {
     "ename": "ModuleNotFoundError",
     "evalue": "No module named 'secrets_reddit'",
     "output_type": "error",
     "traceback": [
      "\u001b[0;31m---------------------------------------------------------------------------\u001b[0m",
      "\u001b[0;31mModuleNotFoundError\u001b[0m                       Traceback (most recent call last)",
      "Input \u001b[0;32mIn [4]\u001b[0m, in \u001b[0;36m<cell line: 6>\u001b[0;34m()\u001b[0m\n\u001b[1;32m      4\u001b[0m \u001b[38;5;28;01mimport\u001b[39;00m \u001b[38;5;21;01mnumpy\u001b[39;00m \u001b[38;5;28;01mas\u001b[39;00m \u001b[38;5;21;01mnp\u001b[39;00m\n\u001b[1;32m      5\u001b[0m \u001b[38;5;28;01mimport\u001b[39;00m \u001b[38;5;21;01mpandas\u001b[39;00m \u001b[38;5;28;01mas\u001b[39;00m \u001b[38;5;21;01mpd\u001b[39;00m\n\u001b[0;32m----> 6\u001b[0m \u001b[38;5;28;01mimport\u001b[39;00m \u001b[38;5;21;01msecrets_reddit\u001b[39;00m\n",
      "\u001b[0;31mModuleNotFoundError\u001b[0m: No module named 'secrets_reddit'"
     ]
    }
   ],
   "source": [
    "import transformers\n",
    "import praw\n",
    "import torch\n",
    "import numpy as np\n",
    "import pandas as pd\n",
    "import secrets_reddit"
   ]
  },
  {
   "cell_type": "code",
   "execution_count": null,
   "id": "f6b50e5a-403e-4d28-9c25-5a8ad8a1dd20",
   "metadata": {},
   "outputs": [],
   "source": []
  }
 ],
 "metadata": {
  "kernelspec": {
   "display_name": "Python 3 (ipykernel)",
   "language": "python",
   "name": "python3"
  },
  "language_info": {
   "codemirror_mode": {
    "name": "ipython",
    "version": 3
   },
   "file_extension": ".py",
   "mimetype": "text/x-python",
   "name": "python",
   "nbconvert_exporter": "python",
   "pygments_lexer": "ipython3",
   "version": "3.8.13"
  },
  "vscode": {
   "interpreter": {
    "hash": "c57794392b841cffd8686d5c4548e4e2ec78521f49300d60954d1380f1b4bd1f"
   }
  }
 },
 "nbformat": 4,
 "nbformat_minor": 5
}
